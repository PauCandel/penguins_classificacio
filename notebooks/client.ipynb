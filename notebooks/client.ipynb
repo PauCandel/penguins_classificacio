{
 "cells": [
  {
   "cell_type": "markdown",
   "metadata": {},
   "source": [
    "PETICIONS MODEL: REGRESSIÓ LOGÍSTICA"
   ]
  },
  {
   "cell_type": "code",
   "execution_count": 1,
   "metadata": {},
   "outputs": [
    {
     "name": "stdout",
     "output_type": "stream",
     "text": [
      "{\n",
      "  \"predicted_species\": \"Adelie\"\n",
      "}\n"
     ]
    },
    {
     "name": "stderr",
     "output_type": "stream",
     "text": [
      "  % Total    % Received % Xferd  Average Speed   Time    Time     Time  Current\n",
      "                                 Dload  Upload   Total   Spent    Left  Speed\n",
      "\n",
      "  0     0    0     0    0     0      0      0 --:--:-- --:--:-- --:--:--     0\n",
      "100   186  100    36  100   150   4816  20066 --:--:-- --:--:-- --:--:-- 26571\n"
     ]
    }
   ],
   "source": [
    "!curl --request POST \"http://127.0.0.1:8000/predict?model=logistic_regression\" \\\n",
    "--header \"Content-Type: application/json\" \\\n",
    "--data-raw \"{\\\n",
    "  \\\"island\\\": \\\"Torgersen\\\",\\\n",
    "  \\\"bill_length_mm\\\": 39.5,\\\n",
    "  \\\"bill_depth_mm\\\": 17.4,\\\n",
    "  \\\"flipper_length_mm\\\": 186.0,\\\n",
    "  \\\"body_mass_g\\\": 3800.0,\\\n",
    "  \\\"sex\\\": \\\"Male\\\"\\\n",
    "}\"\n"
   ]
  },
  {
   "cell_type": "code",
   "execution_count": 2,
   "metadata": {},
   "outputs": [
    {
     "name": "stdout",
     "output_type": "stream",
     "text": [
      "{\n",
      "  \"predicted_species\": \"Gentoo\"\n",
      "}\n"
     ]
    },
    {
     "name": "stderr",
     "output_type": "stream",
     "text": [
      "  % Total    % Received % Xferd  Average Speed   Time    Time     Time  Current\n",
      "                                 Dload  Upload   Total   Spent    Left  Speed\n",
      "\n",
      "  0     0    0     0    0     0      0      0 --:--:-- --:--:-- --:--:--     0\n",
      "100   185  100    36  100   149  11278  46679 --:--:-- --:--:-- --:--:-- 61666\n"
     ]
    }
   ],
   "source": [
    "!curl --request POST \"http://127.0.0.1:8000/predict?model=logistic_regression\" \\\n",
    "--header \"Content-Type: application/json\" \\\n",
    "--data-raw \"{\\\n",
    "  \\\"island\\\": \\\"Biscoe\\\",\\\n",
    "  \\\"bill_length_mm\\\": 45.1,\\\n",
    "  \\\"bill_depth_mm\\\": 14.5,\\\n",
    "  \\\"flipper_length_mm\\\": 210.0,\\\n",
    "  \\\"body_mass_g\\\": 4500.0,\\\n",
    "  \\\"sex\\\": \\\"Female\\\"\\\n",
    "}\""
   ]
  },
  {
   "cell_type": "markdown",
   "metadata": {},
   "source": [
    "PETICIONS MODEL: SVM"
   ]
  },
  {
   "cell_type": "code",
   "execution_count": 3,
   "metadata": {},
   "outputs": [
    {
     "name": "stdout",
     "output_type": "stream",
     "text": [
      "{"
     ]
    },
    {
     "name": "stderr",
     "output_type": "stream",
     "text": [
      "  % Total    % Received % Xferd  Average Speed   Time    Time     Time  Current\n",
      "                                 Dload  Upload   Total   Spent    Left  Speed\n",
      "\n",
      "  0     0    0     0    0     0      0      0 --:--:-- --:--:-- --:--:--     0\n",
      "100   186  100    36  100   150   4880  20336 --:--:-- --:--:-- --:--:-- 26571\n"
     ]
    },
    {
     "name": "stdout",
     "output_type": "stream",
     "text": [
      "\n",
      "  \"predicted_species\": \"Adelie\"\n",
      "}\n"
     ]
    }
   ],
   "source": [
    "!curl --request POST \"http://127.0.0.1:8000/predict?model=svm\" \\\n",
    "--header \"Content-Type: application/json\" \\\n",
    "--data-raw \"{\\\n",
    "  \\\"island\\\": \\\"Torgersen\\\",\\\n",
    "  \\\"bill_length_mm\\\": 39.5,\\\n",
    "  \\\"bill_depth_mm\\\": 17.4,\\\n",
    "  \\\"flipper_length_mm\\\": 186.0,\\\n",
    "  \\\"body_mass_g\\\": 3800.0,\\\n",
    "  \\\"sex\\\": \\\"Male\\\"\\\n",
    "}\""
   ]
  },
  {
   "cell_type": "code",
   "execution_count": 4,
   "metadata": {},
   "outputs": [
    {
     "name": "stdout",
     "output_type": "stream",
     "text": [
      "{\n",
      "  \"predicted_species\": \"Gentoo\"\n",
      "}\n"
     ]
    },
    {
     "name": "stderr",
     "output_type": "stream",
     "text": [
      "  % Total    % Received % Xferd  Average Speed   Time    Time     Time  Current\n",
      "                                 Dload  Upload   Total   Spent    Left  Speed\n",
      "\n",
      "  0     0    0     0    0     0      0      0 --:--:-- --:--:-- --:--:--     0\n",
      "100   185  100    36  100   149   6782  28070 --:--:-- --:--:-- --:--:-- 37000\n"
     ]
    }
   ],
   "source": [
    "!curl --request POST \"http://127.0.0.1:8000/predict?model=svm\" \\\n",
    "--header \"Content-Type: application/json\" \\\n",
    "--data-raw \"{\\\n",
    "  \\\"island\\\": \\\"Biscoe\\\",\\\n",
    "  \\\"bill_length_mm\\\": 45.1,\\\n",
    "  \\\"bill_depth_mm\\\": 14.5,\\\n",
    "  \\\"flipper_length_mm\\\": 210.0,\\\n",
    "  \\\"body_mass_g\\\": 4500.0,\\\n",
    "  \\\"sex\\\": \\\"Female\\\"\\\n",
    "}\""
   ]
  },
  {
   "cell_type": "markdown",
   "metadata": {},
   "source": [
    "PETICIONS MODEL: ARBRE DE DECISIÓ"
   ]
  },
  {
   "cell_type": "code",
   "execution_count": 5,
   "metadata": {},
   "outputs": [
    {
     "name": "stdout",
     "output_type": "stream",
     "text": [
      "{\n",
      "  \"predicted_species\": \"Adelie\"\n",
      "}\n"
     ]
    },
    {
     "name": "stderr",
     "output_type": "stream",
     "text": [
      "  % Total    % Received % Xferd  Average Speed   Time    Time     Time  Current\n",
      "                                 Dload  Upload   Total   Spent    Left  Speed\n",
      "\n",
      "  0     0    0     0    0     0      0      0 --:--:-- --:--:-- --:--:--     0\n",
      "100   186  100    36  100   150   5054  21061 --:--:-- --:--:-- --:--:-- 26571\n"
     ]
    }
   ],
   "source": [
    "!curl --request POST \"http://127.0.0.1:8000/predict?model=decision_tree\" \\\n",
    "--header \"Content-Type: application/json\" \\\n",
    "--data-raw \"{\\\n",
    "  \\\"island\\\": \\\"Torgersen\\\",\\\n",
    "  \\\"bill_length_mm\\\": 39.5,\\\n",
    "  \\\"bill_depth_mm\\\": 17.4,\\\n",
    "  \\\"flipper_length_mm\\\": 186.0,\\\n",
    "  \\\"body_mass_g\\\": 3800.0,\\\n",
    "  \\\"sex\\\": \\\"Male\\\"\\\n",
    "}\""
   ]
  },
  {
   "cell_type": "code",
   "execution_count": 6,
   "metadata": {},
   "outputs": [
    {
     "name": "stdout",
     "output_type": "stream",
     "text": [
      "{\n",
      "  \"predicted_species\": \"Gentoo\"\n",
      "}\n"
     ]
    },
    {
     "name": "stderr",
     "output_type": "stream",
     "text": [
      "  % Total    % Received % Xferd  Average Speed   Time    Time     Time  Current\n",
      "                                 Dload  Upload   Total   Spent    Left  Speed\n",
      "\n",
      "  0     0    0     0    0     0      0      0 --:--:-- --:--:-- --:--:--     0\n",
      "100   185  100    36  100   149   9357  38731 --:--:-- --:--:-- --:--:-- 61666\n"
     ]
    }
   ],
   "source": [
    "!curl --request POST \"http://127.0.0.1:8000/predict?model=decision_tree\" \\\n",
    "--header \"Content-Type: application/json\" \\\n",
    "--data-raw \"{\\\n",
    "  \\\"island\\\": \\\"Biscoe\\\",\\\n",
    "  \\\"bill_length_mm\\\": 45.1,\\\n",
    "  \\\"bill_depth_mm\\\": 14.5,\\\n",
    "  \\\"flipper_length_mm\\\": 210.0,\\\n",
    "  \\\"body_mass_g\\\": 4500.0,\\\n",
    "  \\\"sex\\\": \\\"Female\\\"\\\n",
    "}\""
   ]
  },
  {
   "cell_type": "markdown",
   "metadata": {},
   "source": [
    "PETICIONS MODEL: KNN"
   ]
  },
  {
   "cell_type": "code",
   "execution_count": 7,
   "metadata": {},
   "outputs": [
    {
     "name": "stdout",
     "output_type": "stream",
     "text": [
      "{\n",
      "  \"predicted_species\": \"Adelie\"\n",
      "}\n"
     ]
    },
    {
     "name": "stderr",
     "output_type": "stream",
     "text": [
      "  % Total    % Received % Xferd  Average Speed   Time    Time     Time  Current\n",
      "                                 Dload  Upload   Total   Spent    Left  Speed\n",
      "\n",
      "  0     0    0     0    0     0      0      0 --:--:-- --:--:-- --:--:--     0\n",
      "100   186  100    36  100   150   4101  17088 --:--:-- --:--:-- --:--:-- 23250\n"
     ]
    }
   ],
   "source": [
    "!curl --request POST \"http://127.0.0.1:8000/predict?model=knn\" \\\n",
    "--header \"Content-Type: application/json\" \\\n",
    "--data-raw \"{\\\n",
    "  \\\"island\\\": \\\"Torgersen\\\",\\\n",
    "  \\\"bill_length_mm\\\": 39.5,\\\n",
    "  \\\"bill_depth_mm\\\": 17.4,\\\n",
    "  \\\"flipper_length_mm\\\": 186.0,\\\n",
    "  \\\"body_mass_g\\\": 3800.0,\\\n",
    "  \\\"sex\\\": \\\"Male\\\"\\\n",
    "}\""
   ]
  },
  {
   "cell_type": "code",
   "execution_count": 8,
   "metadata": {},
   "outputs": [
    {
     "name": "stdout",
     "output_type": "stream",
     "text": [
      "{\n",
      "  \"predicted_species\": \"Gentoo\"\n",
      "}\n"
     ]
    },
    {
     "name": "stderr",
     "output_type": "stream",
     "text": [
      "  % Total    % Received % Xferd  Average Speed   Time    Time     Time  Current\n",
      "                                 Dload  Upload   Total   Spent    Left  Speed\n",
      "\n",
      "  0     0    0     0    0     0      0      0 --:--:-- --:--:-- --:--:--     0\n",
      "100   185  100    36  100   149   7157  29622 --:--:-- --:--:-- --:--:-- 46250\n"
     ]
    }
   ],
   "source": [
    "!curl --request POST \"http://127.0.0.1:8000/predict?model=knn\" \\\n",
    "--header \"Content-Type: application/json\" \\\n",
    "--data-raw \"{\\\n",
    "  \\\"island\\\": \\\"Biscoe\\\",\\\n",
    "  \\\"bill_length_mm\\\": 45.1,\\\n",
    "  \\\"bill_depth_mm\\\": 14.5,\\\n",
    "  \\\"flipper_length_mm\\\": 210.0,\\\n",
    "  \\\"body_mass_g\\\": 4500.0,\\\n",
    "  \\\"sex\\\": \\\"Female\\\"\\\n",
    "}\""
   ]
  }
 ],
 "metadata": {
  "kernelspec": {
   "display_name": ".venv",
   "language": "python",
   "name": "python3"
  },
  "language_info": {
   "codemirror_mode": {
    "name": "ipython",
    "version": 3
   },
   "file_extension": ".py",
   "mimetype": "text/x-python",
   "name": "python",
   "nbconvert_exporter": "python",
   "pygments_lexer": "ipython3",
   "version": "3.13.1"
  }
 },
 "nbformat": 4,
 "nbformat_minor": 2
}
