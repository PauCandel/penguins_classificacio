{
 "cells": [
  {
   "cell_type": "markdown",
   "metadata": {},
   "source": [
    "PETICIONS MODEL: REGRESSIÓ LOGÍSTICA"
   ]
  },
  {
   "cell_type": "code",
   "execution_count": 10,
   "metadata": {},
   "outputs": [
    {
     "name": "stdout",
     "output_type": "stream",
     "text": [
      "{\n",
      "  \"predicted_species\": \"Adelie\"\n",
      "}\n"
     ]
    },
    {
     "name": "stderr",
     "output_type": "stream",
     "text": [
      "  % Total    % Received % Xferd  Average Speed   Time    Time     Time  Current\n",
      "                                 Dload  Upload   Total   Spent    Left  Speed\n",
      "\n",
      "  0     0    0     0    0     0      0      0 --:--:-- --:--:-- --:--:--     0\n",
      "100   180  100    36  100   144   6386  25545 --:--:-- --:--:-- --:--:-- 36000\n"
     ]
    }
   ],
   "source": [
    "!curl --request POST \"http://127.0.0.1:8000/predict?model=logistic_regression\" \\\n",
    "--header \"Content-Type: application/json\" \\\n",
    "--data-raw \"{\\\n",
    " \\\"island\\\": \\\"Torgersen\\\",\\\n",
    " \\\"bill_length_mm\\\": 39.5,\\\n",
    " \\\"bill_depth_mm\\\": 17.4,\\\n",
    " \\\"flipper_length_mm\\\": 186.0,\\\n",
    " \\\"body_mass_g\\\": 3800.0,\\\n",
    " \\\"sex\\\": \\\"Male\\\"\\\n",
    "}\"\n"
   ]
  },
  {
   "cell_type": "code",
   "execution_count": 14,
   "metadata": {},
   "outputs": [
    {
     "name": "stdout",
     "output_type": "stream",
     "text": [
      "{\n",
      "  \"predicted_species\": \"Adelie\"\n",
      "}\n"
     ]
    },
    {
     "name": "stderr",
     "output_type": "stream",
     "text": [
      "  % Total    % Received % Xferd  Average Speed   Time    Time     Time  Current\n",
      "                                 Dload  Upload   Total   Spent    Left  Speed\n",
      "\n",
      "  0     0    0     0    0     0      0      0 --:--:-- --:--:-- --:--:--     0\n",
      "100   180  100    36  100   144   9362  37451 --:--:-- --:--:-- --:--:-- 60000\n"
     ]
    }
   ],
   "source": [
    "!curl --request POST \"http://127.0.0.1:8000/predict?model=logistic_regression\" \\\n",
    "--header \"Content-Type: application/json\" \\\n",
    "--data-raw \"{\\\n",
    " \\\"island\\\": \\\"Torgersen\\\",\\\n",
    " \\\"bill_length_mm\\\": 39.5,\\\n",
    " \\\"bill_depth_mm\\\": 17.4,\\\n",
    " \\\"flipper_length_mm\\\": 186.0,\\\n",
    " \\\"body_mass_g\\\": 3800.0,\\\n",
    " \\\"sex\\\": \\\"Male\\\"\\\n",
    "}\"\n"
   ]
  },
  {
   "cell_type": "markdown",
   "metadata": {},
   "source": [
    "PETICIONS MODEL: SVM"
   ]
  },
  {
   "cell_type": "code",
   "execution_count": 11,
   "metadata": {},
   "outputs": [
    {
     "name": "stdout",
     "output_type": "stream",
     "text": [
      "{\n",
      "  \"predicted_species\": \"Gentoo\"\n",
      "}\n"
     ]
    },
    {
     "name": "stderr",
     "output_type": "stream",
     "text": [
      "  % Total    % Received % Xferd  Average Speed   Time    Time     Time  Current\n",
      "                                 Dload  Upload   Total   Spent    Left  Speed\n",
      "\n",
      "  0     0    0     0    0     0      0      0 --:--:-- --:--:-- --:--:--     0\n",
      "100   179  100    36  100   143  10794  42878 --:--:-- --:--:-- --:--:-- 59666\n"
     ]
    }
   ],
   "source": [
    "!curl --request POST \"http://127.0.0.1:8000/predict?model=svm\" \\\n",
    "--header \"Content-Type: application/json\" \\\n",
    "--data-raw \"{\\\n",
    " \\\"island\\\": \\\"Biscoe\\\",\\\n",
    " \\\"bill_length_mm\\\": 45.1,\\\n",
    " \\\"bill_depth_mm\\\": 14.5,\\\n",
    " \\\"flipper_length_mm\\\": 210.0,\\\n",
    " \\\"body_mass_g\\\": 4500.0,\\\n",
    " \\\"sex\\\": \\\"Female\\\"\\\n",
    "}\"\n"
   ]
  },
  {
   "cell_type": "code",
   "execution_count": 15,
   "metadata": {},
   "outputs": [
    {
     "name": "stdout",
     "output_type": "stream",
     "text": [
      "{\n",
      "  \"predicted_species\": \"Gentoo\"\n",
      "}\n"
     ]
    },
    {
     "name": "stderr",
     "output_type": "stream",
     "text": [
      "  % Total    % Received % Xferd  Average Speed   Time    Time     Time  Current\n",
      "                                 Dload  Upload   Total   Spent    Left  Speed\n",
      "\n",
      "  0     0    0     0    0     0      0      0 --:--:-- --:--:-- --:--:--     0\n",
      "100   179  100    36  100   143   6549  26014 --:--:-- --:--:-- --:--:-- 35800\n"
     ]
    }
   ],
   "source": [
    "!curl --request POST \"http://127.0.0.1:8000/predict?model=svm\" \\\n",
    "--header \"Content-Type: application/json\" \\\n",
    "--data-raw \"{\\\n",
    " \\\"island\\\": \\\"Biscoe\\\",\\\n",
    " \\\"bill_length_mm\\\": 45.1,\\\n",
    " \\\"bill_depth_mm\\\": 14.5,\\\n",
    " \\\"flipper_length_mm\\\": 210.0,\\\n",
    " \\\"body_mass_g\\\": 4500.0,\\\n",
    " \\\"sex\\\": \\\"Female\\\"\\\n",
    "}\"\n"
   ]
  },
  {
   "cell_type": "markdown",
   "metadata": {},
   "source": [
    "PETICIONS MODEL: ARBRE DE DECISIÓ"
   ]
  },
  {
   "cell_type": "code",
   "execution_count": 12,
   "metadata": {},
   "outputs": [
    {
     "name": "stdout",
     "output_type": "stream",
     "text": [
      "{\n",
      "  \"predicted_species\": \"Gentoo\"\n",
      "}\n"
     ]
    },
    {
     "name": "stderr",
     "output_type": "stream",
     "text": [
      "  % Total    % Received % Xferd  Average Speed   Time    Time     Time  Current\n",
      "                                 Dload  Upload   Total   Spent    Left  Speed\n",
      "\n",
      "  0     0    0     0    0     0      0      0 --:--:-- --:--:-- --:--:--     0\n",
      "100   176  100    36  100   140   7082  27542 --:--:-- --:--:-- --:--:-- 44000\n"
     ]
    }
   ],
   "source": [
    "!curl --request POST \"http://127.0.0.1:8000/predict?model=decision_tree\" \\\n",
    "--header \"Content-Type: application/json\" \\\n",
    "--data-raw \"{\\\n",
    " \\\"island\\\": \\\"Dream\\\",\\\n",
    " \\\"bill_length_mm\\\": 50.4,\\\n",
    " \\\"bill_depth_mm\\\": 15.2,\\\n",
    " \\\"flipper_length_mm\\\": 220.0,\\\n",
    " \\\"body_mass_g\\\": 5000.0,\\\n",
    " \\\"sex\\\": \\\"Male\\\"\\\n",
    "}\"\n"
   ]
  },
  {
   "cell_type": "code",
   "execution_count": 16,
   "metadata": {},
   "outputs": [
    {
     "name": "stdout",
     "output_type": "stream",
     "text": [
      "{\n",
      "  \"predicted_species\": \"Gentoo\"\n",
      "}\n"
     ]
    },
    {
     "name": "stderr",
     "output_type": "stream",
     "text": [
      "  % Total    % Received % Xferd  Average Speed   Time    Time     Time  Current\n",
      "                                 Dload  Upload   Total   Spent    Left  Speed\n",
      "\n",
      "  0     0    0     0    0     0      0      0 --:--:-- --:--:-- --:--:--     0\n",
      "100   176  100    36  100   140  10428  40556 --:--:-- --:--:-- --:--:-- 58666\n"
     ]
    }
   ],
   "source": [
    "!curl --request POST \"http://127.0.0.1:8000/predict?model=decision_tree\" \\\n",
    "--header \"Content-Type: application/json\" \\\n",
    "--data-raw \"{\\\n",
    " \\\"island\\\": \\\"Dream\\\",\\\n",
    " \\\"bill_length_mm\\\": 50.4,\\\n",
    " \\\"bill_depth_mm\\\": 15.2,\\\n",
    " \\\"flipper_length_mm\\\": 220.0,\\\n",
    " \\\"body_mass_g\\\": 5000.0,\\\n",
    " \\\"sex\\\": \\\"Male\\\"\\\n",
    "}\"\n"
   ]
  },
  {
   "cell_type": "markdown",
   "metadata": {},
   "source": [
    "PETICIONS MODEL: KNN"
   ]
  },
  {
   "cell_type": "code",
   "execution_count": 13,
   "metadata": {},
   "outputs": [
    {
     "name": "stdout",
     "output_type": "stream",
     "text": [
      "{\n",
      "  \"predicted_species\": \"Adelie\"\n",
      "}\n"
     ]
    },
    {
     "name": "stderr",
     "output_type": "stream",
     "text": [
      "  % Total    % Received % Xferd  Average Speed   Time    Time     Time  Current\n",
      "                                 Dload  Upload   Total   Spent    Left  Speed\n",
      "\n",
      "  0     0    0     0    0     0      0      0 --:--:-- --:--:-- --:--:--     0\n",
      "100   182  100    36  100   146   5068  20554 --:--:-- --:--:-- --:--:-- 26000\n"
     ]
    }
   ],
   "source": [
    "!curl --request POST \"http://127.0.0.1:8000/predict?model=knn\" \\\n",
    "--header \"Content-Type: application/json\" \\\n",
    "--data-raw \"{\\\n",
    " \\\"island\\\": \\\"Torgersen\\\",\\\n",
    " \\\"bill_length_mm\\\": 42.3,\\\n",
    " \\\"bill_depth_mm\\\": 18.1,\\\n",
    " \\\"flipper_length_mm\\\": 195.0,\\\n",
    " \\\"body_mass_g\\\": 3900.0,\\\n",
    " \\\"sex\\\": \\\"Female\\\"\\\n",
    "}\"\n"
   ]
  },
  {
   "cell_type": "code",
   "execution_count": 17,
   "metadata": {},
   "outputs": [
    {
     "name": "stdout",
     "output_type": "stream",
     "text": [
      "{\n",
      "  \"predicted_species\": \"Adelie\"\n",
      "}\n"
     ]
    },
    {
     "name": "stderr",
     "output_type": "stream",
     "text": [
      "  % Total    % Received % Xferd  Average Speed   Time    Time     Time  Current\n",
      "                                 Dload  Upload   Total   Spent    Left  Speed\n",
      "\n",
      "  0     0    0     0    0     0      0      0 --:--:-- --:--:-- --:--:--     0\n",
      "100   182  100    36  100   146   6554  26584 --:--:-- --:--:-- --:--:-- 36400\n"
     ]
    }
   ],
   "source": [
    "!curl --request POST \"http://127.0.0.1:8000/predict?model=knn\" \\\n",
    "--header \"Content-Type: application/json\" \\\n",
    "--data-raw \"{\\\n",
    " \\\"island\\\": \\\"Torgersen\\\",\\\n",
    " \\\"bill_length_mm\\\": 42.3,\\\n",
    " \\\"bill_depth_mm\\\": 18.1,\\\n",
    " \\\"flipper_length_mm\\\": 195.0,\\\n",
    " \\\"body_mass_g\\\": 3900.0,\\\n",
    " \\\"sex\\\": \\\"Female\\\"\\\n",
    "}\"\n"
   ]
  }
 ],
 "metadata": {
  "kernelspec": {
   "display_name": ".venv",
   "language": "python",
   "name": "python3"
  },
  "language_info": {
   "codemirror_mode": {
    "name": "ipython",
    "version": 3
   },
   "file_extension": ".py",
   "mimetype": "text/x-python",
   "name": "python",
   "nbconvert_exporter": "python",
   "pygments_lexer": "ipython3",
   "version": "3.13.1"
  }
 },
 "nbformat": 4,
 "nbformat_minor": 2
}
